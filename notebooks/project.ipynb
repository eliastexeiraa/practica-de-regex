{
 "cells": [
  {
   "metadata": {
    "collapsed": true,
    "ExecuteTime": {
     "end_time": "2025-09-12T20:43:27.268089Z",
     "start_time": "2025-09-12T20:43:27.251768Z"
    }
   },
   "cell_type": "code",
   "source": [
    "import re\n",
    "with open(\"../data/baby2006.html\", \"r\", encoding=\"utf-8\") as f:\n",
    "    text = f.read()\n",
    "\n",
    "year_match = re.search(r\"Popularity\\sin\\s(\\d{4})\", text)\n",
    "if year_match:\n",
    "    year = year_match.group(1)\n",
    "    print(\"Año encontrado:\", year)\n",
    "else:\n",
    "    print(\"No se encontró el año en el archivo.\")\n",
    "\n",
    "names_rank = re.findall(r\"<td>(\\d+)</td><td>([A-Za-z]+)</td><td>([A-Za-z]+)</td>\", text)\n",
    "\n",
    "print(\"\\nPrimeros 5 registros encontrados:\")\n",
    "print(names_rank[:5])\n",
    "\n",
    "names_dict = {}\n",
    "for rank, boy, girl in names_rank:\n",
    "    if boy not in names_dict:\n",
    "        names_dict[boy] = rank\n",
    "    if girl not in names_dict:\n",
    "        names_dict[girl] = rank\n",
    "\n",
    "print(\"\\nDiccionario de nombres (primeros 10):\")\n",
    "print(dict(list(names_dict.items())[:10]))\n",
    "\n",
    "sorted_names = sorted(names_dict.keys())\n",
    "\n",
    "print(\"\\nLista de nombres ordenados (primeros 20):\")\n",
    "print(sorted_names[:20])\n",
    "\n",
    "final_list = [year] + [f\"{name} {names_dict[name]}\" for name in sorted_names]\n",
    "\n",
    "print(\"\\nLista final (primeros 20 elementos):\")\n",
    "print(final_list[:20])\n"
   ],
   "outputs": [
    {
     "name": "stdout",
     "output_type": "stream",
     "text": [
      "Año encontrado: 2006\n",
      "\n",
      "Primeros 5 registros encontrados:\n",
      "[('1', 'Jacob', 'Emily'), ('2', 'Michael', 'Emma'), ('3', 'Joshua', 'Madison'), ('4', 'Ethan', 'Isabella'), ('5', 'Matthew', 'Ava')]\n",
      "\n",
      "Diccionario de nombres (primeros 10):\n",
      "{'Jacob': '1', 'Emily': '1', 'Michael': '2', 'Emma': '2', 'Joshua': '3', 'Madison': '3', 'Ethan': '4', 'Isabella': '4', 'Matthew': '5', 'Ava': '5'}\n",
      "\n",
      "Lista de nombres ordenados (primeros 20):\n",
      "['Aaliyah', 'Aaron', 'Abagail', 'Abbey', 'Abbie', 'Abbigail', 'Abby', 'Abdullah', 'Abel', 'Abigail', 'Abigale', 'Abigayle', 'Abraham', 'Abram', 'Abril', 'Ace', 'Ada', 'Adam', 'Adamaris', 'Adan']\n",
      "\n",
      "Lista final (primeros 20 elementos):\n",
      "['2006', 'Aaliyah 91', 'Aaron 57', 'Abagail 895', 'Abbey 695', 'Abbie 650', 'Abbigail 490', 'Abby 205', 'Abdullah 888', 'Abel 338', 'Abigail 6', 'Abigale 889', 'Abigayle 777', 'Abraham 183', 'Abram 586', 'Abril 845', 'Ace 838', 'Ada 715', 'Adam 64', 'Adamaris 920']\n"
     ]
    }
   ],
   "execution_count": 14
  },
  {
   "metadata": {},
   "cell_type": "code",
   "outputs": [],
   "execution_count": null,
   "source": ""
  }
 ],
 "metadata": {
  "kernelspec": {
   "display_name": "Python 3",
   "language": "python",
   "name": "python3"
  },
  "language_info": {
   "codemirror_mode": {
    "name": "ipython",
    "version": 2
   },
   "file_extension": ".py",
   "mimetype": "text/x-python",
   "name": "python",
   "nbconvert_exporter": "python",
   "pygments_lexer": "ipython2",
   "version": "2.7.6"
  }
 },
 "nbformat": 4,
 "nbformat_minor": 0
}
